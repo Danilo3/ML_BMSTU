{
 "cells": [
  {
   "cell_type": "markdown",
   "metadata": {},
   "source": [
    "# Цель лабораторной работы\n",
    "\n",
    "Изучение линейных моделей, SVM и деревьев решений\n",
    "\n",
    "# Задание\n",
    "\n",
    "1. Выберите набор данных (датасет) для решения задачи классификации или регрессии.\n",
    "2. В случае необходимости проведите удаление или заполнение пропусков и кодирование категориальных признаков.\n",
    "3. С использованием метода train_test_split разделите выборку на обучающую и тестовую.\n",
    "4. Обучите следующие модели:\n",
    "    * одну из линейных моделей;\n",
    "    * SVM;\n",
    "    * дерево решений.\n",
    "5. Оцените качество моделей с помощью двух подходящих для задачи метрик. Сравните качество полученных моделей.\n",
    "\n",
    "# Дополнительное задание\n",
    "\n",
    "1. Проведите эксперименты с важностью признаков в дереве решений;\n",
    "2. Визуализируйте дерево решений.\n",
    "\n",
    "# Ход выполнения лабораторной работы"
   ]
  },
  {
   "cell_type": "markdown",
   "metadata": {},
   "source": [
    "Подключим необходимые библиотеки и загрузим датасет"
   ]
  },
  {
   "cell_type": "code",
   "execution_count": 1,
   "metadata": {},
   "outputs": [
    {
     "data": {
      "text/html": [
       "<div>\n",
       "<style scoped>\n",
       "    .dataframe tbody tr th:only-of-type {\n",
       "        vertical-align: middle;\n",
       "    }\n",
       "\n",
       "    .dataframe tbody tr th {\n",
       "        vertical-align: top;\n",
       "    }\n",
       "\n",
       "    .dataframe thead th {\n",
       "        text-align: right;\n",
       "    }\n",
       "</style>\n",
       "<table border=\"1\" class=\"dataframe\">\n",
       "  <thead>\n",
       "    <tr style=\"text-align: right;\">\n",
       "      <th></th>\n",
       "      <th>age</th>\n",
       "      <th>sex</th>\n",
       "      <th>cp</th>\n",
       "      <th>trestbps</th>\n",
       "      <th>chol</th>\n",
       "      <th>fbs</th>\n",
       "      <th>restecg</th>\n",
       "      <th>thalach</th>\n",
       "      <th>exang</th>\n",
       "      <th>oldpeak</th>\n",
       "      <th>slope</th>\n",
       "      <th>ca</th>\n",
       "      <th>thal</th>\n",
       "      <th>target</th>\n",
       "    </tr>\n",
       "  </thead>\n",
       "  <tbody>\n",
       "    <tr>\n",
       "      <th>0</th>\n",
       "      <td>63</td>\n",
       "      <td>1</td>\n",
       "      <td>3</td>\n",
       "      <td>145</td>\n",
       "      <td>233</td>\n",
       "      <td>1</td>\n",
       "      <td>0</td>\n",
       "      <td>150</td>\n",
       "      <td>0</td>\n",
       "      <td>2.3</td>\n",
       "      <td>0</td>\n",
       "      <td>0</td>\n",
       "      <td>1</td>\n",
       "      <td>1</td>\n",
       "    </tr>\n",
       "    <tr>\n",
       "      <th>1</th>\n",
       "      <td>37</td>\n",
       "      <td>1</td>\n",
       "      <td>2</td>\n",
       "      <td>130</td>\n",
       "      <td>250</td>\n",
       "      <td>0</td>\n",
       "      <td>1</td>\n",
       "      <td>187</td>\n",
       "      <td>0</td>\n",
       "      <td>3.5</td>\n",
       "      <td>0</td>\n",
       "      <td>0</td>\n",
       "      <td>2</td>\n",
       "      <td>1</td>\n",
       "    </tr>\n",
       "    <tr>\n",
       "      <th>2</th>\n",
       "      <td>41</td>\n",
       "      <td>0</td>\n",
       "      <td>1</td>\n",
       "      <td>130</td>\n",
       "      <td>204</td>\n",
       "      <td>0</td>\n",
       "      <td>0</td>\n",
       "      <td>172</td>\n",
       "      <td>0</td>\n",
       "      <td>1.4</td>\n",
       "      <td>2</td>\n",
       "      <td>0</td>\n",
       "      <td>2</td>\n",
       "      <td>1</td>\n",
       "    </tr>\n",
       "    <tr>\n",
       "      <th>3</th>\n",
       "      <td>56</td>\n",
       "      <td>1</td>\n",
       "      <td>1</td>\n",
       "      <td>120</td>\n",
       "      <td>236</td>\n",
       "      <td>0</td>\n",
       "      <td>1</td>\n",
       "      <td>178</td>\n",
       "      <td>0</td>\n",
       "      <td>0.8</td>\n",
       "      <td>2</td>\n",
       "      <td>0</td>\n",
       "      <td>2</td>\n",
       "      <td>1</td>\n",
       "    </tr>\n",
       "    <tr>\n",
       "      <th>4</th>\n",
       "      <td>57</td>\n",
       "      <td>0</td>\n",
       "      <td>0</td>\n",
       "      <td>120</td>\n",
       "      <td>354</td>\n",
       "      <td>0</td>\n",
       "      <td>1</td>\n",
       "      <td>163</td>\n",
       "      <td>1</td>\n",
       "      <td>0.6</td>\n",
       "      <td>2</td>\n",
       "      <td>0</td>\n",
       "      <td>2</td>\n",
       "      <td>1</td>\n",
       "    </tr>\n",
       "  </tbody>\n",
       "</table>\n",
       "</div>"
      ],
      "text/plain": [
       "   age  sex  cp  trestbps  chol  fbs  restecg  thalach  exang  \\\n",
       "0   63    1   3       145   233    1        0      150      0   \n",
       "1   37    1   2       130   250    0        1      187      0   \n",
       "2   41    0   1       130   204    0        0      172      0   \n",
       "3   56    1   1       120   236    0        1      178      0   \n",
       "4   57    0   0       120   354    0        1      163      1   \n",
       "\n",
       "   oldpeak  slope  ca  thal  target  \n",
       "0      2.3      0   0     1       1  \n",
       "1      3.5      0   0     2       1  \n",
       "2      1.4      2   0     2       1  \n",
       "3      0.8      2   0     2       1  \n",
       "4      0.6      2   0     2       1  "
      ]
     },
     "execution_count": 1,
     "metadata": {},
     "output_type": "execute_result"
    }
   ],
   "source": [
    "import pandas as pd\n",
    "import seaborn as sns\n",
    "import numpy as np\n",
    "import matplotlib.pyplot as plt\n",
    "from sklearn.model_selection import train_test_split\n",
    "from sklearn.linear_model import SGDClassifier\n",
    "from sklearn.preprocessing import StandardScaler\n",
    "from sklearn.metrics import f1_score, precision_score\n",
    "from sklearn.svm import SVC\n",
    "from sklearn.tree import DecisionTreeClassifier, plot_tree\n",
    "\n",
    "%matplotlib inline\n",
    "\n",
    "# Устанавливаем тип графиков\n",
    "sns.set(style=\"ticks\")\n",
    "\n",
    "# Для лучшего качествоа графиков\n",
    "from IPython.display import set_matplotlib_formats\n",
    "set_matplotlib_formats(\"retina\")\n",
    "\n",
    "# Устанавливаем ширину экрана для отчета\n",
    "pd.set_option(\"display.width\", 70)\n",
    "\n",
    "\n",
    "# Загружаем данные\n",
    "data = pd.read_csv('data/heart.csv')\n",
    "data.head()"
   ]
  },
  {
   "cell_type": "code",
   "execution_count": 2,
   "metadata": {},
   "outputs": [
    {
     "data": {
      "text/plain": [
       "age         0\n",
       "sex         0\n",
       "cp          0\n",
       "trestbps    0\n",
       "chol        0\n",
       "fbs         0\n",
       "restecg     0\n",
       "thalach     0\n",
       "exang       0\n",
       "oldpeak     0\n",
       "slope       0\n",
       "ca          0\n",
       "thal        0\n",
       "target      0\n",
       "dtype: int64"
      ]
     },
     "execution_count": 2,
     "metadata": {},
     "output_type": "execute_result"
    }
   ],
   "source": [
    "data.isnull().sum()"
   ]
  },
  {
   "cell_type": "code",
   "execution_count": 3,
   "metadata": {},
   "outputs": [
    {
     "data": {
      "text/plain": [
       "age         0\n",
       "sex         0\n",
       "cp          0\n",
       "trestbps    0\n",
       "chol        0\n",
       "fbs         0\n",
       "restecg     0\n",
       "thalach     0\n",
       "exang       0\n",
       "oldpeak     0\n",
       "slope       0\n",
       "ca          0\n",
       "thal        0\n",
       "target      0\n",
       "dtype: int64"
      ]
     },
     "execution_count": 3,
     "metadata": {},
     "output_type": "execute_result"
    }
   ],
   "source": [
    "data.isna().sum()"
   ]
  },
  {
   "cell_type": "markdown",
   "metadata": {},
   "source": [
    "Как видим, пустых значений нет, значет нет необходимости преобразовывать набор данных"
   ]
  },
  {
   "cell_type": "code",
   "execution_count": 4,
   "metadata": {},
   "outputs": [
    {
     "name": "stdout",
     "output_type": "stream",
     "text": [
      "     age  sex  cp  trestbps  chol  fbs  restecg  thalach  exang  \\\n",
      "0     63    1   3       145   233    1        0      150      0   \n",
      "1     37    1   2       130   250    0        1      187      0   \n",
      "2     41    0   1       130   204    0        0      172      0   \n",
      "3     56    1   1       120   236    0        1      178      0   \n",
      "4     57    0   0       120   354    0        1      163      1   \n",
      "..   ...  ...  ..       ...   ...  ...      ...      ...    ...   \n",
      "298   57    0   0       140   241    0        1      123      1   \n",
      "299   45    1   3       110   264    0        1      132      0   \n",
      "300   68    1   0       144   193    1        1      141      0   \n",
      "301   57    1   0       130   131    0        1      115      1   \n",
      "302   57    0   1       130   236    0        0      174      0   \n",
      "\n",
      "     oldpeak  slope  ca  thal  \n",
      "0        2.3      0   0     1  \n",
      "1        3.5      0   0     2  \n",
      "2        1.4      2   0     2  \n",
      "3        0.8      2   0     2  \n",
      "4        0.6      2   0     2  \n",
      "..       ...    ...  ..   ...  \n",
      "298      0.2      1   0     3  \n",
      "299      1.2      1   0     3  \n",
      "300      3.4      1   2     3  \n",
      "301      1.2      1   1     3  \n",
      "302      0.0      1   1     2  \n",
      "\n",
      "[303 rows x 13 columns] \n",
      "\n",
      "0      1\n",
      "1      1\n",
      "2      1\n",
      "3      1\n",
      "4      1\n",
      "      ..\n",
      "298    0\n",
      "299    0\n",
      "300    0\n",
      "301    0\n",
      "302    0\n",
      "Name: target, Length: 303, dtype: int64\n"
     ]
    }
   ],
   "source": [
    "# Разделим данные на целевой столбец и признаки\n",
    "X = data.drop(\"target\", axis=1)\n",
    "y = data[\"target\"]\n",
    "print(X, \"\\n\")\n",
    "print(y)"
   ]
  },
  {
   "cell_type": "code",
   "execution_count": 5,
   "metadata": {},
   "outputs": [
    {
     "data": {
      "text/html": [
       "<div>\n",
       "<style scoped>\n",
       "    .dataframe tbody tr th:only-of-type {\n",
       "        vertical-align: middle;\n",
       "    }\n",
       "\n",
       "    .dataframe tbody tr th {\n",
       "        vertical-align: top;\n",
       "    }\n",
       "\n",
       "    .dataframe thead th {\n",
       "        text-align: right;\n",
       "    }\n",
       "</style>\n",
       "<table border=\"1\" class=\"dataframe\">\n",
       "  <thead>\n",
       "    <tr style=\"text-align: right;\">\n",
       "      <th></th>\n",
       "      <th>age</th>\n",
       "      <th>sex</th>\n",
       "      <th>cp</th>\n",
       "      <th>trestbps</th>\n",
       "      <th>chol</th>\n",
       "      <th>fbs</th>\n",
       "      <th>restecg</th>\n",
       "      <th>thalach</th>\n",
       "      <th>exang</th>\n",
       "      <th>oldpeak</th>\n",
       "      <th>slope</th>\n",
       "      <th>ca</th>\n",
       "      <th>thal</th>\n",
       "    </tr>\n",
       "  </thead>\n",
       "  <tbody>\n",
       "    <tr>\n",
       "      <th>count</th>\n",
       "      <td>3.030000e+02</td>\n",
       "      <td>3.030000e+02</td>\n",
       "      <td>3.030000e+02</td>\n",
       "      <td>3.030000e+02</td>\n",
       "      <td>3.030000e+02</td>\n",
       "      <td>3.030000e+02</td>\n",
       "      <td>3.030000e+02</td>\n",
       "      <td>3.030000e+02</td>\n",
       "      <td>3.030000e+02</td>\n",
       "      <td>3.030000e+02</td>\n",
       "      <td>3.030000e+02</td>\n",
       "      <td>3.030000e+02</td>\n",
       "      <td>3.030000e+02</td>\n",
       "    </tr>\n",
       "    <tr>\n",
       "      <th>mean</th>\n",
       "      <td>4.690051e-17</td>\n",
       "      <td>-1.407015e-16</td>\n",
       "      <td>2.345026e-17</td>\n",
       "      <td>-7.035077e-16</td>\n",
       "      <td>-1.113887e-16</td>\n",
       "      <td>-2.345026e-17</td>\n",
       "      <td>1.465641e-16</td>\n",
       "      <td>-6.800574e-16</td>\n",
       "      <td>-4.690051e-17</td>\n",
       "      <td>2.345026e-17</td>\n",
       "      <td>-1.407015e-16</td>\n",
       "      <td>-2.345026e-17</td>\n",
       "      <td>-1.641518e-16</td>\n",
       "    </tr>\n",
       "    <tr>\n",
       "      <th>std</th>\n",
       "      <td>1.001654e+00</td>\n",
       "      <td>1.001654e+00</td>\n",
       "      <td>1.001654e+00</td>\n",
       "      <td>1.001654e+00</td>\n",
       "      <td>1.001654e+00</td>\n",
       "      <td>1.001654e+00</td>\n",
       "      <td>1.001654e+00</td>\n",
       "      <td>1.001654e+00</td>\n",
       "      <td>1.001654e+00</td>\n",
       "      <td>1.001654e+00</td>\n",
       "      <td>1.001654e+00</td>\n",
       "      <td>1.001654e+00</td>\n",
       "      <td>1.001654e+00</td>\n",
       "    </tr>\n",
       "    <tr>\n",
       "      <th>min</th>\n",
       "      <td>-2.797624e+00</td>\n",
       "      <td>-1.468418e+00</td>\n",
       "      <td>-9.385146e-01</td>\n",
       "      <td>-2.148802e+00</td>\n",
       "      <td>-2.324160e+00</td>\n",
       "      <td>-4.176345e-01</td>\n",
       "      <td>-1.005832e+00</td>\n",
       "      <td>-3.439267e+00</td>\n",
       "      <td>-6.966305e-01</td>\n",
       "      <td>-8.968617e-01</td>\n",
       "      <td>-2.274579e+00</td>\n",
       "      <td>-7.144289e-01</td>\n",
       "      <td>-3.784824e+00</td>\n",
       "    </tr>\n",
       "    <tr>\n",
       "      <th>25%</th>\n",
       "      <td>-7.572802e-01</td>\n",
       "      <td>-1.468418e+00</td>\n",
       "      <td>-9.385146e-01</td>\n",
       "      <td>-6.638668e-01</td>\n",
       "      <td>-6.814943e-01</td>\n",
       "      <td>-4.176345e-01</td>\n",
       "      <td>-1.005832e+00</td>\n",
       "      <td>-7.061105e-01</td>\n",
       "      <td>-6.966305e-01</td>\n",
       "      <td>-8.968617e-01</td>\n",
       "      <td>-6.491132e-01</td>\n",
       "      <td>-7.144289e-01</td>\n",
       "      <td>-5.129219e-01</td>\n",
       "    </tr>\n",
       "    <tr>\n",
       "      <th>50%</th>\n",
       "      <td>6.988599e-02</td>\n",
       "      <td>6.810052e-01</td>\n",
       "      <td>3.203122e-02</td>\n",
       "      <td>-9.273778e-02</td>\n",
       "      <td>-1.210553e-01</td>\n",
       "      <td>-4.176345e-01</td>\n",
       "      <td>8.989622e-01</td>\n",
       "      <td>1.466343e-01</td>\n",
       "      <td>-6.966305e-01</td>\n",
       "      <td>-2.067053e-01</td>\n",
       "      <td>-6.491132e-01</td>\n",
       "      <td>-7.144289e-01</td>\n",
       "      <td>-5.129219e-01</td>\n",
       "    </tr>\n",
       "    <tr>\n",
       "      <th>75%</th>\n",
       "      <td>7.316189e-01</td>\n",
       "      <td>6.810052e-01</td>\n",
       "      <td>1.002577e+00</td>\n",
       "      <td>4.783913e-01</td>\n",
       "      <td>5.456738e-01</td>\n",
       "      <td>-4.176345e-01</td>\n",
       "      <td>8.989622e-01</td>\n",
       "      <td>7.151309e-01</td>\n",
       "      <td>1.435481e+00</td>\n",
       "      <td>4.834512e-01</td>\n",
       "      <td>9.763521e-01</td>\n",
       "      <td>2.650822e-01</td>\n",
       "      <td>1.123029e+00</td>\n",
       "    </tr>\n",
       "    <tr>\n",
       "      <th>max</th>\n",
       "      <td>2.496240e+00</td>\n",
       "      <td>6.810052e-01</td>\n",
       "      <td>1.973123e+00</td>\n",
       "      <td>3.905165e+00</td>\n",
       "      <td>6.140401e+00</td>\n",
       "      <td>2.394438e+00</td>\n",
       "      <td>2.803756e+00</td>\n",
       "      <td>2.289429e+00</td>\n",
       "      <td>1.435481e+00</td>\n",
       "      <td>4.451851e+00</td>\n",
       "      <td>9.763521e-01</td>\n",
       "      <td>3.203615e+00</td>\n",
       "      <td>1.123029e+00</td>\n",
       "    </tr>\n",
       "  </tbody>\n",
       "</table>\n",
       "</div>"
      ],
      "text/plain": [
       "                age           sex            cp      trestbps  \\\n",
       "count  3.030000e+02  3.030000e+02  3.030000e+02  3.030000e+02   \n",
       "mean   4.690051e-17 -1.407015e-16  2.345026e-17 -7.035077e-16   \n",
       "std    1.001654e+00  1.001654e+00  1.001654e+00  1.001654e+00   \n",
       "min   -2.797624e+00 -1.468418e+00 -9.385146e-01 -2.148802e+00   \n",
       "25%   -7.572802e-01 -1.468418e+00 -9.385146e-01 -6.638668e-01   \n",
       "50%    6.988599e-02  6.810052e-01  3.203122e-02 -9.273778e-02   \n",
       "75%    7.316189e-01  6.810052e-01  1.002577e+00  4.783913e-01   \n",
       "max    2.496240e+00  6.810052e-01  1.973123e+00  3.905165e+00   \n",
       "\n",
       "               chol           fbs       restecg       thalach  \\\n",
       "count  3.030000e+02  3.030000e+02  3.030000e+02  3.030000e+02   \n",
       "mean  -1.113887e-16 -2.345026e-17  1.465641e-16 -6.800574e-16   \n",
       "std    1.001654e+00  1.001654e+00  1.001654e+00  1.001654e+00   \n",
       "min   -2.324160e+00 -4.176345e-01 -1.005832e+00 -3.439267e+00   \n",
       "25%   -6.814943e-01 -4.176345e-01 -1.005832e+00 -7.061105e-01   \n",
       "50%   -1.210553e-01 -4.176345e-01  8.989622e-01  1.466343e-01   \n",
       "75%    5.456738e-01 -4.176345e-01  8.989622e-01  7.151309e-01   \n",
       "max    6.140401e+00  2.394438e+00  2.803756e+00  2.289429e+00   \n",
       "\n",
       "              exang       oldpeak         slope            ca  \\\n",
       "count  3.030000e+02  3.030000e+02  3.030000e+02  3.030000e+02   \n",
       "mean  -4.690051e-17  2.345026e-17 -1.407015e-16 -2.345026e-17   \n",
       "std    1.001654e+00  1.001654e+00  1.001654e+00  1.001654e+00   \n",
       "min   -6.966305e-01 -8.968617e-01 -2.274579e+00 -7.144289e-01   \n",
       "25%   -6.966305e-01 -8.968617e-01 -6.491132e-01 -7.144289e-01   \n",
       "50%   -6.966305e-01 -2.067053e-01 -6.491132e-01 -7.144289e-01   \n",
       "75%    1.435481e+00  4.834512e-01  9.763521e-01  2.650822e-01   \n",
       "max    1.435481e+00  4.451851e+00  9.763521e-01  3.203615e+00   \n",
       "\n",
       "               thal  \n",
       "count  3.030000e+02  \n",
       "mean  -1.641518e-16  \n",
       "std    1.001654e+00  \n",
       "min   -3.784824e+00  \n",
       "25%   -5.129219e-01  \n",
       "50%   -5.129219e-01  \n",
       "75%    1.123029e+00  \n",
       "max    1.123029e+00  "
      ]
     },
     "execution_count": 5,
     "metadata": {},
     "output_type": "execute_result"
    }
   ],
   "source": [
    "# Предобработаем данные, чтобы методы работали лучше\n",
    "columns = X.columns\n",
    "scaler = StandardScaler()\n",
    "X = scaler.fit_transform(X)\n",
    "pd.DataFrame(X, columns=columns).describe()"
   ]
  },
  {
   "cell_type": "code",
   "execution_count": 6,
   "metadata": {},
   "outputs": [
    {
     "name": "stdout",
     "output_type": "stream",
     "text": [
      "X_train: (227, 13)\n",
      "X_test: (76, 13)\n",
      "y_train: (227,)\n",
      "y_test: (76,)\n"
     ]
    }
   ],
   "source": [
    "# С использованием метода train_test_split разделим выборку на обучающую и тестовую\n",
    "X_train, X_test, y_train, y_test = train_test_split(X, y, test_size=0.25, random_state=1)\n",
    "print(\"X_train:\", X_train.shape)\n",
    "print(\"X_test:\", X_test.shape)\n",
    "print(\"y_train:\", y_train.shape)\n",
    "print(\"y_test:\", y_test.shape)"
   ]
  },
  {
   "cell_type": "code",
   "execution_count": 7,
   "metadata": {},
   "outputs": [],
   "source": [
    "def test_model(model):\n",
    "    print(\"f1_score:\",\n",
    "          f1_score(y_test, model.predict(X_test)))\n",
    "    print(\"precision_score:\",\n",
    "          precision_score(y_test, model.predict(X_test)))"
   ]
  },
  {
   "cell_type": "markdown",
   "metadata": {},
   "source": [
    "#### Линейная модель — SGDClassifier"
   ]
  },
  {
   "cell_type": "code",
   "execution_count": 8,
   "metadata": {},
   "outputs": [
    {
     "data": {
      "text/plain": [
       "SGDClassifier(alpha=0.0001, average=False, class_weight=None,\n",
       "              early_stopping=False, epsilon=0.1, eta0=0.0, fit_intercept=True,\n",
       "              l1_ratio=0.15, learning_rate='optimal', loss='hinge',\n",
       "              max_iter=10000, n_iter_no_change=5, n_jobs=None, penalty='l2',\n",
       "              power_t=0.5, random_state=None, shuffle=True, tol=0.001,\n",
       "              validation_fraction=0.1, verbose=0, warm_start=False)"
      ]
     },
     "execution_count": 8,
     "metadata": {},
     "output_type": "execute_result"
    }
   ],
   "source": [
    "SGD = SGDClassifier(max_iter=10000)\n",
    "SGD.fit(X_train, y_train)"
   ]
  },
  {
   "cell_type": "code",
   "execution_count": 9,
   "metadata": {},
   "outputs": [
    {
     "name": "stdout",
     "output_type": "stream",
     "text": [
      "f1_score: 0.7804878048780488\n",
      "precision_score: 0.7804878048780488\n"
     ]
    }
   ],
   "source": [
    "test_model(SGD)"
   ]
  },
  {
   "cell_type": "markdown",
   "metadata": {},
   "source": [
    "#### SVM"
   ]
  },
  {
   "cell_type": "code",
   "execution_count": 10,
   "metadata": {},
   "outputs": [
    {
     "data": {
      "text/plain": [
       "SVC(C=1.0, break_ties=False, cache_size=200, class_weight=None, coef0=0.0,\n",
       "    decision_function_shape='ovr', degree=3, gamma='scale', kernel='rbf',\n",
       "    max_iter=-1, probability=False, random_state=None, shrinking=True,\n",
       "    tol=0.001, verbose=False)"
      ]
     },
     "execution_count": 10,
     "metadata": {},
     "output_type": "execute_result"
    }
   ],
   "source": [
    "SVC = SVC(kernel='rbf')\n",
    "SVC.fit(X_train, y_train)"
   ]
  },
  {
   "cell_type": "code",
   "execution_count": 11,
   "metadata": {},
   "outputs": [
    {
     "name": "stdout",
     "output_type": "stream",
     "text": [
      "f1_score: 0.8275862068965518\n",
      "precision_score: 0.782608695652174\n"
     ]
    }
   ],
   "source": [
    "test_model(SVC)"
   ]
  },
  {
   "cell_type": "markdown",
   "metadata": {},
   "source": [
    "#### Дерево решений"
   ]
  },
  {
   "cell_type": "code",
   "execution_count": 12,
   "metadata": {},
   "outputs": [
    {
     "data": {
      "text/plain": [
       "DecisionTreeClassifier(ccp_alpha=0.0, class_weight=None, criterion='gini',\n",
       "                       max_depth=None, max_features=None, max_leaf_nodes=None,\n",
       "                       min_impurity_decrease=0.0, min_impurity_split=None,\n",
       "                       min_samples_leaf=1, min_samples_split=2,\n",
       "                       min_weight_fraction_leaf=0.0, presort='deprecated',\n",
       "                       random_state=1, splitter='best')"
      ]
     },
     "execution_count": 12,
     "metadata": {},
     "output_type": "execute_result"
    }
   ],
   "source": [
    "DT = DecisionTreeClassifier(random_state=1)\n",
    "DT.fit(X_train, y_train)"
   ]
  },
  {
   "cell_type": "code",
   "execution_count": 13,
   "metadata": {},
   "outputs": [
    {
     "name": "stdout",
     "output_type": "stream",
     "text": [
      "f1_score: 0.72\n",
      "precision_score: 0.7941176470588235\n"
     ]
    }
   ],
   "source": [
    "test_model(DT)"
   ]
  },
  {
   "cell_type": "markdown",
   "metadata": {},
   "source": [
    "Как видим, метод опорных векторов показал лучший результат"
   ]
  }
 ],
 "metadata": {
  "authors": [
   {
    "name": "Корякин Данила Алексеевич"
   }
  ],
  "group": "РТ5-61Б",
  "kernelspec": {
   "display_name": "Python 3",
   "language": "python",
   "name": "python3"
  },
  "lab_number": 4,
  "language_info": {
   "codemirror_mode": {
    "name": "ipython",
    "version": 3
   },
   "file_extension": ".py",
   "mimetype": "text/x-python",
   "name": "python",
   "nbconvert_exporter": "python",
   "pygments_lexer": "ipython3",
   "version": "3.7.6"
  },
  "title": "Линейные модели, SVM и деревья решений"
 },
 "nbformat": 4,
 "nbformat_minor": 4
}
